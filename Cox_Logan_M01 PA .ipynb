{
 "cells": [
  {
   "cell_type": "code",
   "execution_count": null,
   "id": "5e137799",
   "metadata": {},
   "outputs": [],
   "source": [
    "seconds_per_hour = 3600 #seconds in an hour\n",
    "seconds_per_day = 24 * seconds_per_hour #24 hours in a day\n",
    "\n",
    "results1 = seconds_per_day / seconds_per_hour\n",
    "\n",
    "results2 = seconds_per_day // seconds_per_hour\n",
    "\n",
    "print(results1, results2)"
   ]
  },
  {
   "cell_type": "markdown",
   "id": "f10dfd47",
   "metadata": {},
   "source": [
    "3.1 How many seconds are in an hour? Use the interactive interpreter as a calculator and multiply the number of seconds in a minute (60) by the number of minutes in an hour (also 60).\n",
    "\n",
    "        3600 seconds are in an hour.\n",
    "\n",
    "3.2 Assign the result from the previous task (seconds in an hour) to a variable called seconds_per_hour.\n",
    "\n",
    "3.3 How many seconds are in a day? Use your seconds_per_hour variable.\n",
    "\n",
    "        86400 seconds are in a day. \n",
    "\n",
    "3.4 Calculate seconds per day again, but this time save the result in a variable called seconds_per_day.\n",
    "\n",
    "3.5 Divide seconds_per_day by seconds_per_hour. Use floating-point (/) division.\n",
    "\n",
    "3.6 Divide seconds_per_day by seconds_per_hour, using integer (//) division. Did this number agree with the floating-point value from the previous question, aside from the final .0?"
   ]
  }
 ],
 "metadata": {
  "kernelspec": {
   "display_name": "Python 3 (ipykernel)",
   "language": "python",
   "name": "python3"
  },
  "language_info": {
   "codemirror_mode": {
    "name": "ipython",
    "version": 3
   },
   "file_extension": ".py",
   "mimetype": "text/x-python",
   "name": "python",
   "nbconvert_exporter": "python",
   "pygments_lexer": "ipython3",
   "version": "3.10.9"
  }
 },
 "nbformat": 4,
 "nbformat_minor": 5
}
